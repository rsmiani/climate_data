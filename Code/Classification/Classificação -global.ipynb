{
    "cells": [
        {
            "cell_type": "markdown",
            "metadata": {},
            "source": [
                "<h1><center> UFU - Universidade Federal de Uberlândia</center></h1>\n",
                "\n",
                "<h2><center>Graduação em Engenharia Civil</center></h2>\n",
                "\n",
                "<h3><center>INICIAÇÃO CIENTÍFICA</center><br>\n",
                "TÍTULO: DESENVOLVIMENTO DE MODELOS DE PREVISÃO DE CHUVAS USANDO\n",
                "APRENDIZADO DE MÁQUINA <br>\n",
                "<br>\n",
                "ALUNO: Pedro Augusto Toledo Rios</h3>\n",
                "\n",
                "<p>Este notebook é referente à Iniciação Ciêntífica na área de Ciência da Computação/Ánalise de Dados .</p>"
            ]
        },
        {
            "cell_type": "markdown",
            "metadata": {},
            "source": [
                "# Classificação "
            ]
        },
        {
            "cell_type": "markdown",
            "metadata": {},
            "source": [
                "## Importações e Configurações Iniciais"
            ]
        },
        {
            "cell_type": "code",
            "execution_count": 2,
            "metadata": {},
            "outputs": [],
            "source": [
                "# data analysis and wrangling\n",
                "import pandas as pd\n",
                "import numpy as np\n",
                "import random as rnd\n",
                "import seaborn as sn\n",
                "\n",
                "# visualization\n",
                "import seaborn as sns\n",
                "import matplotlib.pyplot as plt\n",
                "%matplotlib inline\n",
                "\n",
                "# machine learning\n",
                "from sklearn.linear_model import LogisticRegression\n",
                "from sklearn.svm import SVC, LinearSVC\n",
                "from sklearn.ensemble import RandomForestClassifier\n",
                "from sklearn.neighbors import KNeighborsClassifier\n",
                "from sklearn.naive_bayes import GaussianNB\n",
                "from sklearn.linear_model import Perceptron\n",
                "from sklearn.linear_model import SGDClassifier\n",
                "from sklearn.tree import DecisionTreeClassifier\n",
                "from sklearn.model_selection import train_test_split \n",
                "from sklearn.linear_model import LinearRegression\n",
                "from sklearn import  metrics\n",
                "from sklearn.metrics import precision_score, recall_score, f1_score, accuracy_score\n",
                "from sklearn.metrics import classification_report, confusion_matrix\n",
                "import itertools\n",
                "from sklearn import svm\n",
                "from sklearn.naive_bayes import GaussianNB\n",
                "from sklearn.ensemble import AdaBoostClassifier\n",
                "from sklearn.metrics import ConfusionMatrixDisplay\n",
                "import xgboost as xgb\n",
                "import lightgbm as lgb\n",
                "from sklearn.linear_model import LogisticRegression"
            ]
        },
        {
            "cell_type": "markdown",
            "metadata": {},
            "source": [
                "# Análise Exploratória dos Dados"
            ]
        },
        {
            "cell_type": "code",
            "execution_count": 3,
            "metadata": {},
            "outputs": [
                {
                    "name": "stdout",
                    "output_type": "stream",
                    "text": [
                        "Temp Máx (°C)                  124\n",
                        "Temp Mín (°C)                  122\n",
                        "Temp Média (°C)                110\n",
                        "Velocidade do Vento (km/h)     528\n",
                        "Radiação solar (cal/cm²/h)     476\n",
                        "Pressão (mb)                   400\n",
                        "UR (%)                        1865\n",
                        "Chuva (mm)                     277\n",
                        "Dia                              0\n",
                        "Mês                              0\n",
                        "Ano                              0\n",
                        "Data                             0\n",
                        "Data2                            0\n",
                        "dtype: int64\n"
                    ]
                }
            ],
            "source": [
                "#Tratamento de dados\n",
                "missing_values = ['n/a','na','*****','*','*******',' -', '******', '5..84', '3..66', '3.3.21', '1..41', '********', '3.7.94', '354.59*', '564..79', '5.04.24', '21:36','**********', '***', '*********', '03:18', '00:00', '03:48', '08:42', '03:06', '09:06', '01:30', '07:48', '09:12', '10:18', '01:24', '#VALUE!' , '926,4923,8', '27/07/1902**21:36:00', '-']\n",
                "\n",
                "dados_clima = pd.read_csv('C:/Users/riospedro/OneDrive - Universidade Federal de Uberlândia/Área de Trabalho/python 05-11/pesquisa/dadosclimaatt.csv', header = None, sep=';', na_values=missing_values)\n",
                "dados_clima.columns=['Temp Máx (°C)', 'Temp Mín (°C)', 'Temp Média (°C)', 'Velocidade do Vento (km/h)', 'Radiação solar (cal/cm²/h)', 'Pressão (mb)', 'UR (%)', 'Chuva (mm)', 'Dia','Mês', 'Ano', 'Data', 'Data2']\n",
                "dados_clima['UR (%)'] = dados_clima['UR (%)'].str.replace(':', '.')\n",
                "dados_clima['Pressão (mb)'] = dados_clima['Pressão (mb)'].str.replace(',,', '.')\n",
                "dados_clima['UR (%)'] = dados_clima['UR (%)'].astype(float)\n",
                "dados_clima['Pressão (mb)'] = dados_clima['Pressão (mb)'].astype(float)\n",
                "dados_clima['Ano'] = dados_clima['Ano'].str.replace(',,', '')\n",
                "dados_clima['Ano'] = dados_clima['Ano'].astype(int)\n",
                "combine = [dados_clima]\n",
                "chuva = dados_clima['Chuva (mm)']\n",
                "dados_clima.head()\n",
                "dados_clima.dropna()\n",
                "print(dados_clima.isnull().sum())"
            ]
        },
        {
            "cell_type": "markdown",
            "metadata": {},
            "source": [
                "### Informações de cada coluna do dataframe"
            ]
        },
        {
            "cell_type": "code",
            "execution_count": 4,
            "metadata": {},
            "outputs": [
                {
                    "data": {
                        "text/html": [
                            "<div>\n",
                            "<style scoped>\n",
                            "    .dataframe tbody tr th:only-of-type {\n",
                            "        vertical-align: middle;\n",
                            "    }\n",
                            "\n",
                            "    .dataframe tbody tr th {\n",
                            "        vertical-align: top;\n",
                            "    }\n",
                            "\n",
                            "    .dataframe thead th {\n",
                            "        text-align: right;\n",
                            "    }\n",
                            "</style>\n",
                            "<table border=\"1\" class=\"dataframe\">\n",
                            "  <thead>\n",
                            "    <tr style=\"text-align: right;\">\n",
                            "      <th></th>\n",
                            "      <th>Temp Máx (°C)</th>\n",
                            "      <th>Temp Mín (°C)</th>\n",
                            "      <th>Temp Média (°C)</th>\n",
                            "      <th>Velocidade do Vento (km/h)</th>\n",
                            "      <th>Radiação solar (cal/cm²/h)</th>\n",
                            "      <th>Pressão (mb)</th>\n",
                            "      <th>UR (%)</th>\n",
                            "      <th>Chuva (mm)</th>\n",
                            "      <th>Dia</th>\n",
                            "      <th>Mês</th>\n",
                            "      <th>Ano</th>\n",
                            "    </tr>\n",
                            "  </thead>\n",
                            "  <tbody>\n",
                            "    <tr>\n",
                            "      <th>count</th>\n",
                            "      <td>13297.000000</td>\n",
                            "      <td>13299.000000</td>\n",
                            "      <td>13311.000000</td>\n",
                            "      <td>12893.000000</td>\n",
                            "      <td>12945.000000</td>\n",
                            "      <td>13021.000000</td>\n",
                            "      <td>11556.000000</td>\n",
                            "      <td>13144.000000</td>\n",
                            "      <td>13421.000000</td>\n",
                            "      <td>13421.000000</td>\n",
                            "      <td>13421.000000</td>\n",
                            "    </tr>\n",
                            "    <tr>\n",
                            "      <th>mean</th>\n",
                            "      <td>27.886343</td>\n",
                            "      <td>14.175675</td>\n",
                            "      <td>21.049129</td>\n",
                            "      <td>3.234452</td>\n",
                            "      <td>369.640664</td>\n",
                            "      <td>933.542209</td>\n",
                            "      <td>72.104533</td>\n",
                            "      <td>4.094814</td>\n",
                            "      <td>15.727517</td>\n",
                            "      <td>6.491916</td>\n",
                            "      <td>2000.876909</td>\n",
                            "    </tr>\n",
                            "    <tr>\n",
                            "      <th>std</th>\n",
                            "      <td>3.788595</td>\n",
                            "      <td>4.073522</td>\n",
                            "      <td>3.482316</td>\n",
                            "      <td>2.713455</td>\n",
                            "      <td>126.883069</td>\n",
                            "      <td>191.737274</td>\n",
                            "      <td>16.016968</td>\n",
                            "      <td>10.548043</td>\n",
                            "      <td>8.799279</td>\n",
                            "      <td>3.439691</td>\n",
                            "      <td>10.608740</td>\n",
                            "    </tr>\n",
                            "    <tr>\n",
                            "      <th>min</th>\n",
                            "      <td>2.000000</td>\n",
                            "      <td>0.000000</td>\n",
                            "      <td>0.000000</td>\n",
                            "      <td>0.000000</td>\n",
                            "      <td>0.000000</td>\n",
                            "      <td>0.000000</td>\n",
                            "      <td>0.000000</td>\n",
                            "      <td>0.000000</td>\n",
                            "      <td>1.000000</td>\n",
                            "      <td>1.000000</td>\n",
                            "      <td>1983.000000</td>\n",
                            "    </tr>\n",
                            "    <tr>\n",
                            "      <th>25%</th>\n",
                            "      <td>25.800000</td>\n",
                            "      <td>11.400000</td>\n",
                            "      <td>18.900000</td>\n",
                            "      <td>1.550000</td>\n",
                            "      <td>286.240000</td>\n",
                            "      <td>929.000000</td>\n",
                            "      <td>64.000000</td>\n",
                            "      <td>0.000000</td>\n",
                            "      <td>8.000000</td>\n",
                            "      <td>4.000000</td>\n",
                            "      <td>1992.000000</td>\n",
                            "    </tr>\n",
                            "    <tr>\n",
                            "      <th>50%</th>\n",
                            "      <td>28.200000</td>\n",
                            "      <td>14.900000</td>\n",
                            "      <td>21.500000</td>\n",
                            "      <td>2.530000</td>\n",
                            "      <td>363.920000</td>\n",
                            "      <td>933.400000</td>\n",
                            "      <td>73.500000</td>\n",
                            "      <td>0.000000</td>\n",
                            "      <td>16.000000</td>\n",
                            "      <td>7.000000</td>\n",
                            "      <td>2001.000000</td>\n",
                            "    </tr>\n",
                            "    <tr>\n",
                            "      <th>75%</th>\n",
                            "      <td>30.600000</td>\n",
                            "      <td>17.400000</td>\n",
                            "      <td>23.700000</td>\n",
                            "      <td>4.100000</td>\n",
                            "      <td>457.420000</td>\n",
                            "      <td>937.400000</td>\n",
                            "      <td>82.200000</td>\n",
                            "      <td>1.800000</td>\n",
                            "      <td>23.000000</td>\n",
                            "      <td>9.000000</td>\n",
                            "      <td>2010.000000</td>\n",
                            "    </tr>\n",
                            "    <tr>\n",
                            "      <th>max</th>\n",
                            "      <td>39.200000</td>\n",
                            "      <td>28.600000</td>\n",
                            "      <td>34.200000</td>\n",
                            "      <td>99.200000</td>\n",
                            "      <td>1019.570000</td>\n",
                            "      <td>9925.800000</td>\n",
                            "      <td>905.000000</td>\n",
                            "      <td>158.400000</td>\n",
                            "      <td>31.000000</td>\n",
                            "      <td>12.000000</td>\n",
                            "      <td>2019.000000</td>\n",
                            "    </tr>\n",
                            "  </tbody>\n",
                            "</table>\n",
                            "</div>"
                        ],
                        "text/plain": [
                            "       Temp Máx (°C)  Temp Mín (°C)  Temp Média (°C)  \\\n",
                            "count   13297.000000   13299.000000     13311.000000   \n",
                            "mean       27.886343      14.175675        21.049129   \n",
                            "std         3.788595       4.073522         3.482316   \n",
                            "min         2.000000       0.000000         0.000000   \n",
                            "25%        25.800000      11.400000        18.900000   \n",
                            "50%        28.200000      14.900000        21.500000   \n",
                            "75%        30.600000      17.400000        23.700000   \n",
                            "max        39.200000      28.600000        34.200000   \n",
                            "\n",
                            "       Velocidade do Vento (km/h)  Radiação solar (cal/cm²/h)  Pressão (mb)  \\\n",
                            "count                12893.000000                12945.000000  13021.000000   \n",
                            "mean                     3.234452                  369.640664    933.542209   \n",
                            "std                      2.713455                  126.883069    191.737274   \n",
                            "min                      0.000000                    0.000000      0.000000   \n",
                            "25%                      1.550000                  286.240000    929.000000   \n",
                            "50%                      2.530000                  363.920000    933.400000   \n",
                            "75%                      4.100000                  457.420000    937.400000   \n",
                            "max                     99.200000                 1019.570000   9925.800000   \n",
                            "\n",
                            "             UR (%)    Chuva (mm)           Dia           Mês           Ano  \n",
                            "count  11556.000000  13144.000000  13421.000000  13421.000000  13421.000000  \n",
                            "mean      72.104533      4.094814     15.727517      6.491916   2000.876909  \n",
                            "std       16.016968     10.548043      8.799279      3.439691     10.608740  \n",
                            "min        0.000000      0.000000      1.000000      1.000000   1983.000000  \n",
                            "25%       64.000000      0.000000      8.000000      4.000000   1992.000000  \n",
                            "50%       73.500000      0.000000     16.000000      7.000000   2001.000000  \n",
                            "75%       82.200000      1.800000     23.000000      9.000000   2010.000000  \n",
                            "max      905.000000    158.400000     31.000000     12.000000   2019.000000  "
                        ]
                    },
                    "execution_count": 4,
                    "metadata": {},
                    "output_type": "execute_result"
                }
            ],
            "source": [
                "dados_clima.describe()\n"
            ]
        },
        {
            "cell_type": "markdown",
            "metadata": {},
            "source": [
                "### Criação de uma nova classe que determina se naquele dia choveu ou não"
            ]
        },
        {
            "cell_type": "code",
            "execution_count": 5,
            "metadata": {},
            "outputs": [
                {
                    "data": {
                        "text/html": [
                            "<div>\n",
                            "<style scoped>\n",
                            "    .dataframe tbody tr th:only-of-type {\n",
                            "        vertical-align: middle;\n",
                            "    }\n",
                            "\n",
                            "    .dataframe tbody tr th {\n",
                            "        vertical-align: top;\n",
                            "    }\n",
                            "\n",
                            "    .dataframe thead th {\n",
                            "        text-align: right;\n",
                            "    }\n",
                            "</style>\n",
                            "<table border=\"1\" class=\"dataframe\">\n",
                            "  <thead>\n",
                            "    <tr style=\"text-align: right;\">\n",
                            "      <th></th>\n",
                            "      <th>Temp Máx (°C)</th>\n",
                            "      <th>Temp Mín (°C)</th>\n",
                            "      <th>Temp Média (°C)</th>\n",
                            "      <th>Velocidade do Vento (km/h)</th>\n",
                            "      <th>Radiação solar (cal/cm²/h)</th>\n",
                            "      <th>Pressão (mb)</th>\n",
                            "      <th>UR (%)</th>\n",
                            "      <th>Chuva (mm)</th>\n",
                            "      <th>Dia</th>\n",
                            "      <th>Mês</th>\n",
                            "      <th>Ano</th>\n",
                            "      <th>Data</th>\n",
                            "      <th>Data2</th>\n",
                            "      <th>Choveu?</th>\n",
                            "    </tr>\n",
                            "  </thead>\n",
                            "  <tbody>\n",
                            "    <tr>\n",
                            "      <th>0</th>\n",
                            "      <td>26.8</td>\n",
                            "      <td>14.0</td>\n",
                            "      <td>20.4</td>\n",
                            "      <td>3.39</td>\n",
                            "      <td>340.16</td>\n",
                            "      <td>926.1</td>\n",
                            "      <td>88.5</td>\n",
                            "      <td>23.6</td>\n",
                            "      <td>1</td>\n",
                            "      <td>1</td>\n",
                            "      <td>1983</td>\n",
                            "      <td>01/01/1983</td>\n",
                            "      <td>jan/83</td>\n",
                            "      <td>1.0</td>\n",
                            "    </tr>\n",
                            "    <tr>\n",
                            "      <th>1</th>\n",
                            "      <td>27.2</td>\n",
                            "      <td>13.0</td>\n",
                            "      <td>20.1</td>\n",
                            "      <td>3.02</td>\n",
                            "      <td>340.16</td>\n",
                            "      <td>927.6</td>\n",
                            "      <td>86.6</td>\n",
                            "      <td>20.4</td>\n",
                            "      <td>2</td>\n",
                            "      <td>1</td>\n",
                            "      <td>1983</td>\n",
                            "      <td>02/01/1983</td>\n",
                            "      <td>jan/83</td>\n",
                            "      <td>1.0</td>\n",
                            "    </tr>\n",
                            "    <tr>\n",
                            "      <th>2</th>\n",
                            "      <td>27.4</td>\n",
                            "      <td>17.2</td>\n",
                            "      <td>22.3</td>\n",
                            "      <td>5.97</td>\n",
                            "      <td>370.18</td>\n",
                            "      <td>930.0</td>\n",
                            "      <td>87.2</td>\n",
                            "      <td>21.2</td>\n",
                            "      <td>3</td>\n",
                            "      <td>1</td>\n",
                            "      <td>1983</td>\n",
                            "      <td>03/01/1983</td>\n",
                            "      <td>jan/83</td>\n",
                            "      <td>1.0</td>\n",
                            "    </tr>\n",
                            "    <tr>\n",
                            "      <th>3</th>\n",
                            "      <td>28.2</td>\n",
                            "      <td>17.0</td>\n",
                            "      <td>22.6</td>\n",
                            "      <td>4.25</td>\n",
                            "      <td>420.20</td>\n",
                            "      <td>931.3</td>\n",
                            "      <td>8.0</td>\n",
                            "      <td>0.0</td>\n",
                            "      <td>4</td>\n",
                            "      <td>1</td>\n",
                            "      <td>1983</td>\n",
                            "      <td>04/01/1983</td>\n",
                            "      <td>jan/83</td>\n",
                            "      <td>0.0</td>\n",
                            "    </tr>\n",
                            "    <tr>\n",
                            "      <th>4</th>\n",
                            "      <td>29.0</td>\n",
                            "      <td>18.2</td>\n",
                            "      <td>23.6</td>\n",
                            "      <td>3.25</td>\n",
                            "      <td>160.08</td>\n",
                            "      <td>931.4</td>\n",
                            "      <td>91.8</td>\n",
                            "      <td>40.0</td>\n",
                            "      <td>5</td>\n",
                            "      <td>1</td>\n",
                            "      <td>1983</td>\n",
                            "      <td>05/01/1983</td>\n",
                            "      <td>jan/83</td>\n",
                            "      <td>1.0</td>\n",
                            "    </tr>\n",
                            "  </tbody>\n",
                            "</table>\n",
                            "</div>"
                        ],
                        "text/plain": [
                            "   Temp Máx (°C)  Temp Mín (°C)  Temp Média (°C)  Velocidade do Vento (km/h)  \\\n",
                            "0           26.8           14.0             20.4                        3.39   \n",
                            "1           27.2           13.0             20.1                        3.02   \n",
                            "2           27.4           17.2             22.3                        5.97   \n",
                            "3           28.2           17.0             22.6                        4.25   \n",
                            "4           29.0           18.2             23.6                        3.25   \n",
                            "\n",
                            "   Radiação solar (cal/cm²/h)  Pressão (mb)  UR (%)  Chuva (mm)  Dia  Mês  \\\n",
                            "0                      340.16         926.1    88.5        23.6    1    1   \n",
                            "1                      340.16         927.6    86.6        20.4    2    1   \n",
                            "2                      370.18         930.0    87.2        21.2    3    1   \n",
                            "3                      420.20         931.3     8.0         0.0    4    1   \n",
                            "4                      160.08         931.4    91.8        40.0    5    1   \n",
                            "\n",
                            "    Ano        Data   Data2  Choveu?  \n",
                            "0  1983  01/01/1983  jan/83      1.0  \n",
                            "1  1983  02/01/1983  jan/83      1.0  \n",
                            "2  1983  03/01/1983  jan/83      1.0  \n",
                            "3  1983  04/01/1983  jan/83      0.0  \n",
                            "4  1983  05/01/1983  jan/83      1.0  "
                        ]
                    },
                    "execution_count": 5,
                    "metadata": {},
                    "output_type": "execute_result"
                }
            ],
            "source": [
                "#dados_clima['Choveu?']= chuva\n",
                "\n",
                "# Loop que preenche a nova coluna com 0(não choveu) e 1(choveu)\n",
                "for dados_clima in combine:    \n",
                "    dados_clima.loc[ dados_clima['Chuva (mm)'] == 0, 'Choveu?'] = 0\n",
                "    dados_clima.loc[(dados_clima['Chuva (mm)'] > 0), 'Choveu?'] = 1\n",
                "\n",
                "#Visualização das primeiras cinco linhas da tabela\n",
                "dados_clima.head()   \n",
                "    "
            ]
        },
        {
            "cell_type": "code",
            "execution_count": 6,
            "metadata": {},
            "outputs": [
                {
                    "name": "stdout",
                    "output_type": "stream",
                    "text": [
                        "\n",
                        "Missing Values no dataframe  após o tratamento:\n",
                        "Temp Máx (°C)                 0\n",
                        "Temp Mín (°C)                 0\n",
                        "Temp Média (°C)               0\n",
                        "Velocidade do Vento (km/h)    0\n",
                        "Radiação solar (cal/cm²/h)    0\n",
                        "Pressão (mb)                  0\n",
                        "UR (%)                        0\n",
                        "Chuva (mm)                    0\n",
                        "Dia                           0\n",
                        "Mês                           0\n",
                        "Ano                           0\n",
                        "Data                          0\n",
                        "Data2                         0\n",
                        "Choveu?                       0\n",
                        "dtype: int64\n"
                    ]
                },
                {
                    "name": "stderr",
                    "output_type": "stream",
                    "text": [
                        "C:\\Users\\riospedro\\AppData\\Local\\Temp\\ipykernel_6572\\3475542657.py:3: FutureWarning: Series.fillna with 'method' is deprecated and will raise in a future version. Use obj.ffill() or obj.bfill() instead.\n",
                        "  dados_clima['Temp Mín (°C)'].fillna(method='ffill',inplace = True)   #ffill => preencher com a última temperatura antes do Missing Value\n",
                        "C:\\Users\\riospedro\\AppData\\Local\\Temp\\ipykernel_6572\\3475542657.py:4: FutureWarning: Series.fillna with 'method' is deprecated and will raise in a future version. Use obj.ffill() or obj.bfill() instead.\n",
                        "  dados_clima['Temp Média (°C)'].fillna(method='ffill',inplace = True) #ffill => preencher com a última temperatura antes do Missing Value\n",
                        "C:\\Users\\riospedro\\AppData\\Local\\Temp\\ipykernel_6572\\3475542657.py:5: FutureWarning: Series.fillna with 'method' is deprecated and will raise in a future version. Use obj.ffill() or obj.bfill() instead.\n",
                        "  dados_clima['Velocidade do Vento (km/h)'].fillna(method='ffill',inplace = True) #ffill => preencher com a última velocidade antes do Missing Value\n",
                        "C:\\Users\\riospedro\\AppData\\Local\\Temp\\ipykernel_6572\\3475542657.py:6: FutureWarning: Series.fillna with 'method' is deprecated and will raise in a future version. Use obj.ffill() or obj.bfill() instead.\n",
                        "  dados_clima['Radiação solar (cal/cm²/h)'].fillna(method='ffill',inplace = True) #ffill => preencher com a última radiação antes do Missing Value\n",
                        "C:\\Users\\riospedro\\AppData\\Local\\Temp\\ipykernel_6572\\3475542657.py:7: FutureWarning: Series.fillna with 'method' is deprecated and will raise in a future version. Use obj.ffill() or obj.bfill() instead.\n",
                        "  dados_clima['UR (%)'].fillna(method='ffill',inplace = True) #ffill => preencher com a última taxa UR antes do Missing Value\n",
                        "C:\\Users\\riospedro\\AppData\\Local\\Temp\\ipykernel_6572\\3475542657.py:8: FutureWarning: Series.fillna with 'method' is deprecated and will raise in a future version. Use obj.ffill() or obj.bfill() instead.\n",
                        "  dados_clima['Chuva (mm)'].fillna(method='ffill',inplace = True) #ffill => preencher com a última quantidade antes do Missing Value\n",
                        "C:\\Users\\riospedro\\AppData\\Local\\Temp\\ipykernel_6572\\3475542657.py:9: FutureWarning: Series.fillna with 'method' is deprecated and will raise in a future version. Use obj.ffill() or obj.bfill() instead.\n",
                        "  dados_clima['Pressão (mb)'].fillna(method='ffill',inplace = True) #ffill => preencher com a última pressão antes do Missing Value\n",
                        "C:\\Users\\riospedro\\AppData\\Local\\Temp\\ipykernel_6572\\3475542657.py:10: FutureWarning: Series.fillna with 'method' is deprecated and will raise in a future version. Use obj.ffill() or obj.bfill() instead.\n",
                        "  dados_clima['Choveu?'].fillna(method='ffill',inplace = True) #ffill => preencher com a última pressão antes do Missing Value\n",
                        "C:\\Users\\riospedro\\AppData\\Local\\Temp\\ipykernel_6572\\3475542657.py:11: FutureWarning: Series.fillna with 'method' is deprecated and will raise in a future version. Use obj.ffill() or obj.bfill() instead.\n",
                        "  dados_clima['Temp Máx (°C)'].fillna(method='ffill',inplace = True)   #ffill => preencher com a última temperatura antes do Missing Value\n"
                    ]
                }
            ],
            "source": [
                "#Tratar os Missing Values (Valores Ausentes)\n",
                "\n",
                "dados_clima['Temp Mín (°C)'].fillna(method='ffill',inplace = True)   #ffill => preencher com a última temperatura antes do Missing Value\n",
                "dados_clima['Temp Média (°C)'].fillna(method='ffill',inplace = True) #ffill => preencher com a última temperatura antes do Missing Value\n",
                "dados_clima['Velocidade do Vento (km/h)'].fillna(method='ffill',inplace = True) #ffill => preencher com a última velocidade antes do Missing Value\n",
                "dados_clima['Radiação solar (cal/cm²/h)'].fillna(method='ffill',inplace = True) #ffill => preencher com a última radiação antes do Missing Value\n",
                "dados_clima['UR (%)'].fillna(method='ffill',inplace = True) #ffill => preencher com a última taxa UR antes do Missing Value\n",
                "dados_clima['Chuva (mm)'].fillna(method='ffill',inplace = True) #ffill => preencher com a última quantidade antes do Missing Value\n",
                "dados_clima['Pressão (mb)'].fillna(method='ffill',inplace = True) #ffill => preencher com a última pressão antes do Missing Value\n",
                "dados_clima['Choveu?'].fillna(method='ffill',inplace = True) #ffill => preencher com a última pressão antes do Missing Value\n",
                "dados_clima['Temp Máx (°C)'].fillna(method='ffill',inplace = True)   #ffill => preencher com a última temperatura antes do Missing Value\n",
                "dados_clima['Choveu?'] = dados_clima['Choveu?'].dropna()\n",
                "\n",
                "\n",
                "\n",
                "#verificar os missing values após a imputação acima\n",
                "print('\\nMissing Values no dataframe  após o tratamento:\\n',dados_clima.isnull().sum(), sep=\"\")"
            ]
        },
        {
            "cell_type": "code",
            "execution_count": 7,
            "metadata": {},
            "outputs": [
                {
                    "ename": "ValueError",
                    "evalue": "could not convert string to float: '01/01/1983'",
                    "output_type": "error",
                    "traceback": [
                        "\u001b[1;31m---------------------------------------------------------------------------\u001b[0m",
                        "\u001b[1;31mValueError\u001b[0m                                Traceback (most recent call last)",
                        "Cell \u001b[1;32mIn[7], line 2\u001b[0m\n\u001b[0;32m      1\u001b[0m \u001b[39m# Usamos a correlação de Pearson e ordenamos os valores\u001b[39;00m\n\u001b[1;32m----> 2\u001b[0m columns_corr \u001b[39m=\u001b[39m dados_clima\u001b[39m.\u001b[39;49mcorr(method\u001b[39m=\u001b[39;49m\u001b[39m'\u001b[39;49m\u001b[39mpearson\u001b[39;49m\u001b[39m'\u001b[39;49m)[\u001b[39m'\u001b[39m\u001b[39mChoveu?\u001b[39m\u001b[39m'\u001b[39m]\u001b[39m.\u001b[39msort_values()\n\u001b[0;32m      3\u001b[0m \u001b[39mprint\u001b[39m(columns_corr)\n",
                        "File \u001b[1;32mc:\\Users\\riospedro\\AppData\\Local\\Programs\\Python\\Python311\\Lib\\site-packages\\pandas\\core\\frame.py:10707\u001b[0m, in \u001b[0;36mDataFrame.corr\u001b[1;34m(self, method, min_periods, numeric_only)\u001b[0m\n\u001b[0;32m  10705\u001b[0m cols \u001b[39m=\u001b[39m data\u001b[39m.\u001b[39mcolumns\n\u001b[0;32m  10706\u001b[0m idx \u001b[39m=\u001b[39m cols\u001b[39m.\u001b[39mcopy()\n\u001b[1;32m> 10707\u001b[0m mat \u001b[39m=\u001b[39m data\u001b[39m.\u001b[39;49mto_numpy(dtype\u001b[39m=\u001b[39;49m\u001b[39mfloat\u001b[39;49m, na_value\u001b[39m=\u001b[39;49mnp\u001b[39m.\u001b[39;49mnan, copy\u001b[39m=\u001b[39;49m\u001b[39mFalse\u001b[39;49;00m)\n\u001b[0;32m  10709\u001b[0m \u001b[39mif\u001b[39;00m method \u001b[39m==\u001b[39m \u001b[39m\"\u001b[39m\u001b[39mpearson\u001b[39m\u001b[39m\"\u001b[39m:\n\u001b[0;32m  10710\u001b[0m     correl \u001b[39m=\u001b[39m libalgos\u001b[39m.\u001b[39mnancorr(mat, minp\u001b[39m=\u001b[39mmin_periods)\n",
                        "File \u001b[1;32mc:\\Users\\riospedro\\AppData\\Local\\Programs\\Python\\Python311\\Lib\\site-packages\\pandas\\core\\frame.py:1892\u001b[0m, in \u001b[0;36mDataFrame.to_numpy\u001b[1;34m(self, dtype, copy, na_value)\u001b[0m\n\u001b[0;32m   1890\u001b[0m \u001b[39mif\u001b[39;00m dtype \u001b[39mis\u001b[39;00m \u001b[39mnot\u001b[39;00m \u001b[39mNone\u001b[39;00m:\n\u001b[0;32m   1891\u001b[0m     dtype \u001b[39m=\u001b[39m np\u001b[39m.\u001b[39mdtype(dtype)\n\u001b[1;32m-> 1892\u001b[0m result \u001b[39m=\u001b[39m \u001b[39mself\u001b[39;49m\u001b[39m.\u001b[39;49m_mgr\u001b[39m.\u001b[39;49mas_array(dtype\u001b[39m=\u001b[39;49mdtype, copy\u001b[39m=\u001b[39;49mcopy, na_value\u001b[39m=\u001b[39;49mna_value)\n\u001b[0;32m   1893\u001b[0m \u001b[39mif\u001b[39;00m result\u001b[39m.\u001b[39mdtype \u001b[39mis\u001b[39;00m \u001b[39mnot\u001b[39;00m dtype:\n\u001b[0;32m   1894\u001b[0m     result \u001b[39m=\u001b[39m np\u001b[39m.\u001b[39marray(result, dtype\u001b[39m=\u001b[39mdtype, copy\u001b[39m=\u001b[39m\u001b[39mFalse\u001b[39;00m)\n",
                        "File \u001b[1;32mc:\\Users\\riospedro\\AppData\\Local\\Programs\\Python\\Python311\\Lib\\site-packages\\pandas\\core\\internals\\managers.py:1656\u001b[0m, in \u001b[0;36mBlockManager.as_array\u001b[1;34m(self, dtype, copy, na_value)\u001b[0m\n\u001b[0;32m   1654\u001b[0m         arr\u001b[39m.\u001b[39mflags\u001b[39m.\u001b[39mwriteable \u001b[39m=\u001b[39m \u001b[39mFalse\u001b[39;00m\n\u001b[0;32m   1655\u001b[0m \u001b[39melse\u001b[39;00m:\n\u001b[1;32m-> 1656\u001b[0m     arr \u001b[39m=\u001b[39m \u001b[39mself\u001b[39;49m\u001b[39m.\u001b[39;49m_interleave(dtype\u001b[39m=\u001b[39;49mdtype, na_value\u001b[39m=\u001b[39;49mna_value)\n\u001b[0;32m   1657\u001b[0m     \u001b[39m# The underlying data was copied within _interleave, so no need\u001b[39;00m\n\u001b[0;32m   1658\u001b[0m     \u001b[39m# to further copy if copy=True or setting na_value\u001b[39;00m\n\u001b[0;32m   1660\u001b[0m \u001b[39mif\u001b[39;00m na_value \u001b[39mis\u001b[39;00m lib\u001b[39m.\u001b[39mno_default:\n",
                        "File \u001b[1;32mc:\\Users\\riospedro\\AppData\\Local\\Programs\\Python\\Python311\\Lib\\site-packages\\pandas\\core\\internals\\managers.py:1715\u001b[0m, in \u001b[0;36mBlockManager._interleave\u001b[1;34m(self, dtype, na_value)\u001b[0m\n\u001b[0;32m   1713\u001b[0m     \u001b[39melse\u001b[39;00m:\n\u001b[0;32m   1714\u001b[0m         arr \u001b[39m=\u001b[39m blk\u001b[39m.\u001b[39mget_values(dtype)\n\u001b[1;32m-> 1715\u001b[0m     result[rl\u001b[39m.\u001b[39;49mindexer] \u001b[39m=\u001b[39m arr\n\u001b[0;32m   1716\u001b[0m     itemmask[rl\u001b[39m.\u001b[39mindexer] \u001b[39m=\u001b[39m \u001b[39m1\u001b[39m\n\u001b[0;32m   1718\u001b[0m \u001b[39mif\u001b[39;00m \u001b[39mnot\u001b[39;00m itemmask\u001b[39m.\u001b[39mall():\n",
                        "\u001b[1;31mValueError\u001b[0m: could not convert string to float: '01/01/1983'"
                    ]
                }
            ],
            "source": [
                "# Usamos a correlação de Pearson e ordenamos os valores\n",
                "columns_corr = dados_clima.corr(method='pearson')['Choveu?'].sort_values()\n",
                "print(columns_corr)"
            ]
        },
        {
            "cell_type": "markdown",
            "metadata": {},
            "source": [
                "### Linhas de código que permitem selecionar só uma parte do dataframe, no caso o período interessado."
            ]
        },
        {
            "cell_type": "code",
            "execution_count": 8,
            "metadata": {},
            "outputs": [],
            "source": [
                "# 70% para treino / 30% para teste\n",
                "\n",
                "data_inicio = 1980\n",
                "data_fim = 2020\n",
                "data_inicio_treinamento = 1980\n",
                "data_fim_treinamento = 2008\n",
                "data_inicio_teste = 2009\n",
                "data_fim_teste = 2019\n",
                "\n",
                "dadosparateste = dados_clima.copy()\n",
                "\n"
            ]
        },
        {
            "cell_type": "code",
            "execution_count": 9,
            "metadata": {},
            "outputs": [],
            "source": [
                "dadosparateste.drop(columns = ['Chuva (mm)'], axis = 1, inplace=True)"
            ]
        },
        {
            "cell_type": "markdown",
            "metadata": {},
            "source": [
                "#  Modelos de Aprendizado de Máquina (Machine Learning)"
            ]
        },
        {
            "cell_type": "markdown",
            "metadata": {},
            "source": [
                "## Criação de um dataframe de Treinamento e Teste"
            ]
        },
        {
            "cell_type": "code",
            "execution_count": 10,
            "metadata": {},
            "outputs": [
                {
                    "data": {
                        "text/html": [
                            "<div>\n",
                            "<style scoped>\n",
                            "    .dataframe tbody tr th:only-of-type {\n",
                            "        vertical-align: middle;\n",
                            "    }\n",
                            "\n",
                            "    .dataframe tbody tr th {\n",
                            "        vertical-align: top;\n",
                            "    }\n",
                            "\n",
                            "    .dataframe thead th {\n",
                            "        text-align: right;\n",
                            "    }\n",
                            "</style>\n",
                            "<table border=\"1\" class=\"dataframe\">\n",
                            "  <thead>\n",
                            "    <tr style=\"text-align: right;\">\n",
                            "      <th></th>\n",
                            "      <th>Temp Máx (°C)</th>\n",
                            "      <th>Temp Mín (°C)</th>\n",
                            "      <th>Temp Média (°C)</th>\n",
                            "      <th>Velocidade do Vento (km/h)</th>\n",
                            "      <th>Radiação solar (cal/cm²/h)</th>\n",
                            "      <th>Pressão (mb)</th>\n",
                            "      <th>UR (%)</th>\n",
                            "      <th>Dia</th>\n",
                            "      <th>Mês</th>\n",
                            "      <th>Ano</th>\n",
                            "    </tr>\n",
                            "  </thead>\n",
                            "  <tbody>\n",
                            "    <tr>\n",
                            "      <th>0</th>\n",
                            "      <td>26.8</td>\n",
                            "      <td>14.0</td>\n",
                            "      <td>20.4</td>\n",
                            "      <td>3.39</td>\n",
                            "      <td>340.16</td>\n",
                            "      <td>926.1</td>\n",
                            "      <td>88.5</td>\n",
                            "      <td>1</td>\n",
                            "      <td>1</td>\n",
                            "      <td>1983</td>\n",
                            "    </tr>\n",
                            "    <tr>\n",
                            "      <th>1</th>\n",
                            "      <td>27.2</td>\n",
                            "      <td>13.0</td>\n",
                            "      <td>20.1</td>\n",
                            "      <td>3.02</td>\n",
                            "      <td>340.16</td>\n",
                            "      <td>927.6</td>\n",
                            "      <td>86.6</td>\n",
                            "      <td>2</td>\n",
                            "      <td>1</td>\n",
                            "      <td>1983</td>\n",
                            "    </tr>\n",
                            "    <tr>\n",
                            "      <th>2</th>\n",
                            "      <td>27.4</td>\n",
                            "      <td>17.2</td>\n",
                            "      <td>22.3</td>\n",
                            "      <td>5.97</td>\n",
                            "      <td>370.18</td>\n",
                            "      <td>930.0</td>\n",
                            "      <td>87.2</td>\n",
                            "      <td>3</td>\n",
                            "      <td>1</td>\n",
                            "      <td>1983</td>\n",
                            "    </tr>\n",
                            "    <tr>\n",
                            "      <th>3</th>\n",
                            "      <td>28.2</td>\n",
                            "      <td>17.0</td>\n",
                            "      <td>22.6</td>\n",
                            "      <td>4.25</td>\n",
                            "      <td>420.20</td>\n",
                            "      <td>931.3</td>\n",
                            "      <td>8.0</td>\n",
                            "      <td>4</td>\n",
                            "      <td>1</td>\n",
                            "      <td>1983</td>\n",
                            "    </tr>\n",
                            "    <tr>\n",
                            "      <th>4</th>\n",
                            "      <td>29.0</td>\n",
                            "      <td>18.2</td>\n",
                            "      <td>23.6</td>\n",
                            "      <td>3.25</td>\n",
                            "      <td>160.08</td>\n",
                            "      <td>931.4</td>\n",
                            "      <td>91.8</td>\n",
                            "      <td>5</td>\n",
                            "      <td>1</td>\n",
                            "      <td>1983</td>\n",
                            "    </tr>\n",
                            "  </tbody>\n",
                            "</table>\n",
                            "</div>"
                        ],
                        "text/plain": [
                            "   Temp Máx (°C)  Temp Mín (°C)  Temp Média (°C)  Velocidade do Vento (km/h)  \\\n",
                            "0           26.8           14.0             20.4                        3.39   \n",
                            "1           27.2           13.0             20.1                        3.02   \n",
                            "2           27.4           17.2             22.3                        5.97   \n",
                            "3           28.2           17.0             22.6                        4.25   \n",
                            "4           29.0           18.2             23.6                        3.25   \n",
                            "\n",
                            "   Radiação solar (cal/cm²/h)  Pressão (mb)  UR (%)  Dia  Mês   Ano  \n",
                            "0                      340.16         926.1    88.5    1    1  1983  \n",
                            "1                      340.16         927.6    86.6    2    1  1983  \n",
                            "2                      370.18         930.0    87.2    3    1  1983  \n",
                            "3                      420.20         931.3     8.0    4    1  1983  \n",
                            "4                      160.08         931.4    91.8    5    1  1983  "
                        ]
                    },
                    "execution_count": 10,
                    "metadata": {},
                    "output_type": "execute_result"
                }
            ],
            "source": [
                "#Criar os dataframe de Treinamento e Teste\n",
                "df_train =  dadosparateste[dadosparateste['Ano'] >= data_inicio_treinamento]\n",
                "df_train =  dadosparateste[dadosparateste['Ano'] <= data_fim_treinamento]\n",
                "df_test = dadosparateste[dadosparateste['Ano'] >= data_inicio_teste]\n",
                "df_test =  dadosparateste[dadosparateste['Ano'] <= data_fim_teste]\n",
                "\n",
                "x_train = df_train.iloc[:,0:10]\n",
                "y_train = df_train[['Choveu?']]\n",
                "\n",
                "x = df_test.iloc[:,0:10]\n",
                "y = df_test[['Choveu?']]\n",
                "\n",
                "x.head()"
            ]
        },
        {
            "cell_type": "markdown",
            "metadata": {},
            "source": [
                "## Modelo 1 - Random Forest Classifier para determinar se choveu ou não"
            ]
        },
        {
            "cell_type": "markdown",
            "metadata": {},
            "source": [
                "## Treinar e Testar o Modelo"
            ]
        },
        {
            "cell_type": "code",
            "execution_count": 11,
            "metadata": {},
            "outputs": [
                {
                    "name": "stderr",
                    "output_type": "stream",
                    "text": [
                        "C:\\Users\\auped\\AppData\\Local\\Temp\\ipykernel_17128\\3332098698.py:2: DataConversionWarning: A column-vector y was passed when a 1d array was expected. Please change the shape of y to (n_samples,), for example using ravel().\n",
                        "  model.fit(x, y) # Treina o modelo\n"
                    ]
                }
            ],
            "source": [
                "model = RandomForestClassifier(n_estimators = 100, max_depth =5, random_state=1)\n",
                "model.fit(x, y) # Treina o modelo\n",
                "y_pred = model.predict(x_train) # Testa o Modelo\n"
            ]
        },
        {
            "cell_type": "code",
            "execution_count": 12,
            "metadata": {},
            "outputs": [],
            "source": [
                "#Atualização de Variáveis\n",
                "y_test1 = y_train\n",
                "y_pred1 = y_pred"
            ]
        },
        {
            "cell_type": "markdown",
            "metadata": {},
            "source": [
                "## Modelo 1 - XGBoost para determinar se choveu ou não"
            ]
        },
        {
            "cell_type": "code",
            "execution_count": 12,
            "metadata": {},
            "outputs": [
                {
                    "name": "stderr",
                    "output_type": "stream",
                    "text": [
                        "c:\\Users\\riospedro\\AppData\\Local\\Programs\\Python\\Python311\\Lib\\site-packages\\xgboost\\data.py:312: FutureWarning: is_sparse is deprecated and will be removed in a future version. Check `isinstance(dtype, pd.SparseDtype)` instead.\n",
                        "  if is_sparse(dtype):\n",
                        "c:\\Users\\riospedro\\AppData\\Local\\Programs\\Python\\Python311\\Lib\\site-packages\\xgboost\\data.py:314: FutureWarning: is_categorical_dtype is deprecated and will be removed in a future version. Use isinstance(dtype, CategoricalDtype) instead\n",
                        "  elif is_categorical_dtype(dtype) and enable_categorical:\n",
                        "c:\\Users\\riospedro\\AppData\\Local\\Programs\\Python\\Python311\\Lib\\site-packages\\xgboost\\data.py:345: FutureWarning: is_categorical_dtype is deprecated and will be removed in a future version. Use isinstance(dtype, CategoricalDtype) instead\n",
                        "  if is_categorical_dtype(dtype)\n",
                        "c:\\Users\\riospedro\\AppData\\Local\\Programs\\Python\\Python311\\Lib\\site-packages\\xgboost\\data.py:336: FutureWarning: is_categorical_dtype is deprecated and will be removed in a future version. Use isinstance(dtype, CategoricalDtype) instead\n",
                        "  return is_int or is_bool or is_float or is_categorical_dtype(dtype)\n",
                        "c:\\Users\\riospedro\\AppData\\Local\\Programs\\Python\\Python311\\Lib\\site-packages\\xgboost\\data.py:345: FutureWarning: is_categorical_dtype is deprecated and will be removed in a future version. Use isinstance(dtype, CategoricalDtype) instead\n",
                        "  if is_categorical_dtype(dtype)\n",
                        "c:\\Users\\riospedro\\AppData\\Local\\Programs\\Python\\Python311\\Lib\\site-packages\\xgboost\\data.py:336: FutureWarning: is_categorical_dtype is deprecated and will be removed in a future version. Use isinstance(dtype, CategoricalDtype) instead\n",
                        "  return is_int or is_bool or is_float or is_categorical_dtype(dtype)\n",
                        "c:\\Users\\riospedro\\AppData\\Local\\Programs\\Python\\Python311\\Lib\\site-packages\\xgboost\\data.py:312: FutureWarning: is_sparse is deprecated and will be removed in a future version. Check `isinstance(dtype, pd.SparseDtype)` instead.\n",
                        "  if is_sparse(dtype):\n",
                        "c:\\Users\\riospedro\\AppData\\Local\\Programs\\Python\\Python311\\Lib\\site-packages\\xgboost\\data.py:314: FutureWarning: is_categorical_dtype is deprecated and will be removed in a future version. Use isinstance(dtype, CategoricalDtype) instead\n",
                        "  elif is_categorical_dtype(dtype) and enable_categorical:\n",
                        "c:\\Users\\riospedro\\AppData\\Local\\Programs\\Python\\Python311\\Lib\\site-packages\\xgboost\\data.py:345: FutureWarning: is_categorical_dtype is deprecated and will be removed in a future version. Use isinstance(dtype, CategoricalDtype) instead\n",
                        "  if is_categorical_dtype(dtype)\n",
                        "c:\\Users\\riospedro\\AppData\\Local\\Programs\\Python\\Python311\\Lib\\site-packages\\xgboost\\data.py:336: FutureWarning: is_categorical_dtype is deprecated and will be removed in a future version. Use isinstance(dtype, CategoricalDtype) instead\n",
                        "  return is_int or is_bool or is_float or is_categorical_dtype(dtype)\n"
                    ]
                }
            ],
            "source": [
                "\n",
                "#Criando objet classeifer XGBoost\n",
                "XGboost = xgb.XGBClassifier()\n",
                " \n",
                "#Treinando o XGBoost Classifer\n",
                "modelxgb = XGboost.fit(x, y)\n",
                "\n",
                "#Testando \n",
                "\n",
                "y_pred4 = modelxgb.predict(x_train)\n",
                "\n",
                "\n"
            ]
        },
        {
            "cell_type": "code",
            "execution_count": 23,
            "metadata": {},
            "outputs": [],
            "source": [
                "from sklearn import datasets\n",
                "from sklearn.model_selection import train_test_split\n",
                "from sklearn.linear_model import LogisticRegression\n",
                "from sklearn.metrics import precision_recall_curve\n",
                "import matplotlib.pyplot as plt"
            ]
        },
        {
            "cell_type": "markdown",
            "metadata": {},
            "source": [
                "### Score"
            ]
        },
        {
            "cell_type": "code",
            "execution_count": 13,
            "metadata": {},
            "outputs": [
                {
                    "name": "stdout",
                    "output_type": "stream",
                    "text": [
                        "Precision: 0.903\n",
                        "Accuracy: 0.918\n",
                        "Recall: 0.842\n"
                    ]
                }
            ],
            "source": [
                "print('Precision: %.3f' % precision_score(y_train, y_pred4))\n",
                "print('Accuracy: %.3f' % accuracy_score(y_train, y_pred4))\n",
                "print('Recall: %.3f' % recall_score(y_train, y_pred4))\n"
            ]
        },
        {
            "cell_type": "code",
            "execution_count": 25,
            "metadata": {},
            "outputs": [
                {
                    "name": "stdout",
                    "output_type": "stream",
                    "text": [
                        "9496\n"
                    ]
                }
            ],
            "source": [
                "print(len(y_pred4))"
            ]
        },
        {
            "cell_type": "code",
            "execution_count": 26,
            "metadata": {},
            "outputs": [
                {
                    "name": "stderr",
                    "output_type": "stream",
                    "text": [
                        "C:\\Users\\auped\\AppData\\Local\\Temp\\ipykernel_17128\\164513570.py:6: SettingWithCopyWarning: \n",
                        "A value is trying to be set on a copy of a slice from a DataFrame.\n",
                        "Try using .loc[row_indexer,col_indexer] = value instead\n",
                        "\n",
                        "See the caveats in the documentation: https://pandas.pydata.org/pandas-docs/stable/user_guide/indexing.html#returning-a-view-versus-a-copy\n",
                        "  df_train['Previsão']= chuvaprevista\n"
                    ]
                },
                {
                    "data": {
                        "text/html": [
                            "<div>\n",
                            "<style scoped>\n",
                            "    .dataframe tbody tr th:only-of-type {\n",
                            "        vertical-align: middle;\n",
                            "    }\n",
                            "\n",
                            "    .dataframe tbody tr th {\n",
                            "        vertical-align: top;\n",
                            "    }\n",
                            "\n",
                            "    .dataframe thead th {\n",
                            "        text-align: right;\n",
                            "    }\n",
                            "</style>\n",
                            "<table border=\"1\" class=\"dataframe\">\n",
                            "  <thead>\n",
                            "    <tr style=\"text-align: right;\">\n",
                            "      <th></th>\n",
                            "      <th>Temp Máx (°C)</th>\n",
                            "      <th>Temp Mín (°C)</th>\n",
                            "      <th>Temp Média (°C)</th>\n",
                            "      <th>Velocidade do Vento (km/h)</th>\n",
                            "      <th>Radiação solar (cal/cm²/h)</th>\n",
                            "      <th>Pressão (mb)</th>\n",
                            "      <th>UR (%)</th>\n",
                            "      <th>Dia</th>\n",
                            "      <th>Mês</th>\n",
                            "      <th>Ano</th>\n",
                            "      <th>Data</th>\n",
                            "      <th>Data2</th>\n",
                            "      <th>Choveu?</th>\n",
                            "      <th>Previsão</th>\n",
                            "    </tr>\n",
                            "  </thead>\n",
                            "  <tbody>\n",
                            "    <tr>\n",
                            "      <th>0</th>\n",
                            "      <td>26.8</td>\n",
                            "      <td>14.0</td>\n",
                            "      <td>20.4</td>\n",
                            "      <td>3.39</td>\n",
                            "      <td>340.16</td>\n",
                            "      <td>926.1</td>\n",
                            "      <td>88.5</td>\n",
                            "      <td>1</td>\n",
                            "      <td>1</td>\n",
                            "      <td>1983</td>\n",
                            "      <td>01/01/1983</td>\n",
                            "      <td>jan/83</td>\n",
                            "      <td>1.0</td>\n",
                            "      <td>1.0</td>\n",
                            "    </tr>\n",
                            "    <tr>\n",
                            "      <th>1</th>\n",
                            "      <td>27.2</td>\n",
                            "      <td>13.0</td>\n",
                            "      <td>20.1</td>\n",
                            "      <td>3.02</td>\n",
                            "      <td>340.16</td>\n",
                            "      <td>927.6</td>\n",
                            "      <td>86.6</td>\n",
                            "      <td>2</td>\n",
                            "      <td>1</td>\n",
                            "      <td>1983</td>\n",
                            "      <td>02/01/1983</td>\n",
                            "      <td>jan/83</td>\n",
                            "      <td>1.0</td>\n",
                            "      <td>0.0</td>\n",
                            "    </tr>\n",
                            "    <tr>\n",
                            "      <th>2</th>\n",
                            "      <td>27.4</td>\n",
                            "      <td>17.2</td>\n",
                            "      <td>22.3</td>\n",
                            "      <td>5.97</td>\n",
                            "      <td>370.18</td>\n",
                            "      <td>930.0</td>\n",
                            "      <td>87.2</td>\n",
                            "      <td>3</td>\n",
                            "      <td>1</td>\n",
                            "      <td>1983</td>\n",
                            "      <td>03/01/1983</td>\n",
                            "      <td>jan/83</td>\n",
                            "      <td>1.0</td>\n",
                            "      <td>1.0</td>\n",
                            "    </tr>\n",
                            "    <tr>\n",
                            "      <th>3</th>\n",
                            "      <td>28.2</td>\n",
                            "      <td>17.0</td>\n",
                            "      <td>22.6</td>\n",
                            "      <td>4.25</td>\n",
                            "      <td>420.20</td>\n",
                            "      <td>931.3</td>\n",
                            "      <td>8.0</td>\n",
                            "      <td>4</td>\n",
                            "      <td>1</td>\n",
                            "      <td>1983</td>\n",
                            "      <td>04/01/1983</td>\n",
                            "      <td>jan/83</td>\n",
                            "      <td>0.0</td>\n",
                            "      <td>0.0</td>\n",
                            "    </tr>\n",
                            "    <tr>\n",
                            "      <th>4</th>\n",
                            "      <td>29.0</td>\n",
                            "      <td>18.2</td>\n",
                            "      <td>23.6</td>\n",
                            "      <td>3.25</td>\n",
                            "      <td>160.08</td>\n",
                            "      <td>931.4</td>\n",
                            "      <td>91.8</td>\n",
                            "      <td>5</td>\n",
                            "      <td>1</td>\n",
                            "      <td>1983</td>\n",
                            "      <td>05/01/1983</td>\n",
                            "      <td>jan/83</td>\n",
                            "      <td>1.0</td>\n",
                            "      <td>1.0</td>\n",
                            "    </tr>\n",
                            "  </tbody>\n",
                            "</table>\n",
                            "</div>"
                        ],
                        "text/plain": [
                            "   Temp Máx (°C)  Temp Mín (°C)  Temp Média (°C)  Velocidade do Vento (km/h)  \\\n",
                            "0           26.8           14.0             20.4                        3.39   \n",
                            "1           27.2           13.0             20.1                        3.02   \n",
                            "2           27.4           17.2             22.3                        5.97   \n",
                            "3           28.2           17.0             22.6                        4.25   \n",
                            "4           29.0           18.2             23.6                        3.25   \n",
                            "\n",
                            "   Radiação solar (cal/cm²/h)  Pressão (mb)  UR (%)  Dia  Mês   Ano  \\\n",
                            "0                      340.16         926.1    88.5    1    1  1983   \n",
                            "1                      340.16         927.6    86.6    2    1  1983   \n",
                            "2                      370.18         930.0    87.2    3    1  1983   \n",
                            "3                      420.20         931.3     8.0    4    1  1983   \n",
                            "4                      160.08         931.4    91.8    5    1  1983   \n",
                            "\n",
                            "         Data   Data2  Choveu?  Previsão  \n",
                            "0  01/01/1983  jan/83      1.0       1.0  \n",
                            "1  02/01/1983  jan/83      1.0       0.0  \n",
                            "2  03/01/1983  jan/83      1.0       1.0  \n",
                            "3  04/01/1983  jan/83      0.0       0.0  \n",
                            "4  05/01/1983  jan/83      1.0       1.0  "
                        ]
                    },
                    "execution_count": 26,
                    "metadata": {},
                    "output_type": "execute_result"
                }
            ],
            "source": [
                "chuvaprevista = []\n",
                "for z in range(len(y_pred4)):\n",
                "    #print(y_pred4[z])\n",
                "    chuvaprevista.append(y_pred4[z])\n",
                "    \n",
                "df_train['Previsão']= chuvaprevista\n",
                "df_train.head()    "
            ]
        },
        {
            "cell_type": "code",
            "execution_count": 27,
            "metadata": {},
            "outputs": [],
            "source": [
                "#Salvamento dos dados em csv\n",
                "\n",
                "df_train.to_excel(\"classificaçãogeral.xlsx\")"
            ]
        },
        {
            "cell_type": "markdown",
            "metadata": {},
            "source": [
                "# Matrizes de Confusão"
            ]
        },
        {
            "cell_type": "markdown",
            "metadata": {},
            "source": [
                "## Modelo  - XGBoost"
            ]
        },
        {
            "cell_type": "code",
            "execution_count": 14,
            "metadata": {},
            "outputs": [
                {
                    "data": {
                        "image/png": "[encoded data removed]",
                        "text/plain": [
                            "<Figure size 800x600 with 2 Axes>"
                        ]
                    },
                    "metadata": {},
                    "output_type": "display_data"
                }
            ],
            "source": [
                "cm = confusion_matrix(y_train, y_pred4)\n",
                "\n",
                "# Definir rótulos das classes (substitua pelos seus próprios rótulos, se necessário)\n",
                "class_names = ['Negative Class', 'Positive Class']\n",
                "\n",
                "# Plotar a matriz de confusão usando Seaborn\n",
                "plt.figure(figsize=(8, 6))\n",
                "sns.set(font_scale=1.2)  # Ajuste o tamanho da fonte\n",
                "\n",
                "sns.heatmap(cm, annot=True, fmt='d', cmap='Blues', xticklabels=class_names, yticklabels=class_names)\n",
                "\n",
                "plt.xlabel('Predicted Label')\n",
                "plt.ylabel('True Label')\n",
                "plt.show()"
            ]
        }
    ],
    "metadata": {
        "interpreter": {
            "hash": "2c59dba0152abc646769ccd12cb3610df778415e8e3cb3060c77f51652b05e6b"
        },
        "kernelspec": {
            "display_name": "Python 3.10.4 64-bit",
            "language": "python",
            "name": "python3"
        },
        "language_info": {
            "codemirror_mode": {
                "name": "ipython",
                "version": 3
            },
            "file_extension": ".py",
            "mimetype": "text/x-python",
            "name": "python",
            "nbconvert_exporter": "python",
            "pygments_lexer": "ipython3",
            "version": "3.11.5"
        },
        "orig_nbformat": 4
    },
    "nbformat": 4,
    "nbformat_minor": 2
}
